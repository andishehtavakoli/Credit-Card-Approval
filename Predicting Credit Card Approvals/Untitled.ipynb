{
 "cells": [
  {
   "cell_type": "code",
   "execution_count": 32,
   "id": "2f02e581",
   "metadata": {},
   "outputs": [],
   "source": [
    "from sklearn.preprocessing import MinMaxScaler\n",
    "re = MinMaxScaler()"
   ]
  },
  {
   "cell_type": "code",
   "execution_count": 31,
   "id": "39c9ff8f",
   "metadata": {},
   "outputs": [],
   "source": [
    "# from sklearn import preprocessing\n",
    "# re = preprocessing.MinMaxScaler()"
   ]
  },
  {
   "cell_type": "code",
   "execution_count": 34,
   "id": "cff25269",
   "metadata": {},
   "outputs": [
    {
     "name": "stdout",
     "output_type": "stream",
     "text": [
      "MinMaxScaler()\n"
     ]
    }
   ],
   "source": [
    "data = [[-1, 2], [-0.5, 6], [0, 10], [1, 18]]\n",
    "print(re.fit(data))"
   ]
  },
  {
   "cell_type": "code",
   "execution_count": 35,
   "id": "10f127bf",
   "metadata": {},
   "outputs": [
    {
     "name": "stdout",
     "output_type": "stream",
     "text": [
      "[ 1. 18.]\n"
     ]
    }
   ],
   "source": [
    "print(re.data_max_)"
   ]
  },
  {
   "cell_type": "code",
   "execution_count": 36,
   "id": "f5246570",
   "metadata": {},
   "outputs": [
    {
     "name": "stdout",
     "output_type": "stream",
     "text": [
      "[[0.   0.  ]\n",
      " [0.25 0.25]\n",
      " [0.5  0.5 ]\n",
      " [1.   1.  ]]\n"
     ]
    }
   ],
   "source": [
    "print(re.transform(data))"
   ]
  },
  {
   "cell_type": "code",
   "execution_count": 33,
   "id": "30db5739",
   "metadata": {},
   "outputs": [
    {
     "data": {
      "text/plain": [
       "LabelEncoder()"
      ]
     },
     "execution_count": 33,
     "metadata": {},
     "output_type": "execute_result"
    }
   ],
   "source": [
    "from sklearn import preprocessing\n",
    "\n",
    "le = preprocessing.LabelEncoder().fit([1,2,2,6])\n",
    "le"
   ]
  },
  {
   "cell_type": "code",
   "execution_count": 9,
   "id": "23e2dfbc",
   "metadata": {},
   "outputs": [
    {
     "data": {
      "text/plain": [
       "array([1, 2, 6])"
      ]
     },
     "execution_count": 9,
     "metadata": {},
     "output_type": "execute_result"
    }
   ],
   "source": [
    "le.classes_"
   ]
  },
  {
   "cell_type": "code",
   "execution_count": 12,
   "id": "c4f16281",
   "metadata": {},
   "outputs": [
    {
     "data": {
      "text/plain": [
       "array([0, 2, 1, 0, 1, 2])"
      ]
     },
     "execution_count": 12,
     "metadata": {},
     "output_type": "execute_result"
    }
   ],
   "source": [
    "le.transform([1,6,2,1,2,6])"
   ]
  },
  {
   "cell_type": "code",
   "execution_count": null,
   "id": "3ca10888",
   "metadata": {},
   "outputs": [],
   "source": [
    "\n",
    ">>> le.classes_\n",
    "array([1, 2, 6])\n",
    ">>> le.transform([1, 1, 2, 6])\n",
    "array([0, 0, 1, 2]...)\n",
    ">>> le.inverse_transform([0, 0, 1, 2])\n",
    "array([1, 1, 2, 6])\n"
   ]
  },
  {
   "cell_type": "code",
   "execution_count": 16,
   "id": "871b2443",
   "metadata": {},
   "outputs": [],
   "source": [
    "le = preprocessing.LabelEncoder()"
   ]
  },
  {
   "cell_type": "code",
   "execution_count": 18,
   "id": "74decc1b",
   "metadata": {},
   "outputs": [
    {
     "data": {
      "text/plain": [
       "array([3, 4, 5, 6, 0, 2, 1])"
      ]
     },
     "execution_count": 18,
     "metadata": {},
     "output_type": "execute_result"
    }
   ],
   "source": [
    "le.fit_transform([35,57,72,94,11,33,25])"
   ]
  },
  {
   "cell_type": "code",
   "execution_count": 21,
   "id": "6a1cd559",
   "metadata": {},
   "outputs": [
    {
     "data": {
      "text/plain": [
       "['Binarizer',\n",
       " 'FunctionTransformer',\n",
       " 'KBinsDiscretizer',\n",
       " 'KernelCenterer',\n",
       " 'LabelBinarizer',\n",
       " 'LabelEncoder',\n",
       " 'MaxAbsScaler',\n",
       " 'MinMaxScaler',\n",
       " 'MultiLabelBinarizer',\n",
       " 'Normalizer',\n",
       " 'OneHotEncoder',\n",
       " 'OrdinalEncoder',\n",
       " 'PolynomialFeatures',\n",
       " 'PowerTransformer',\n",
       " 'QuantileTransformer',\n",
       " 'RobustScaler',\n",
       " 'StandardScaler',\n",
       " '__all__',\n",
       " '__builtins__',\n",
       " '__cached__',\n",
       " '__doc__',\n",
       " '__file__',\n",
       " '__loader__',\n",
       " '__name__',\n",
       " '__package__',\n",
       " '__path__',\n",
       " '__spec__',\n",
       " '_csr_polynomial_expansion',\n",
       " '_data',\n",
       " '_discretization',\n",
       " '_encoders',\n",
       " '_function_transformer',\n",
       " '_label',\n",
       " 'add_dummy_feature',\n",
       " 'binarize',\n",
       " 'label_binarize',\n",
       " 'maxabs_scale',\n",
       " 'minmax_scale',\n",
       " 'normalize',\n",
       " 'power_transform',\n",
       " 'quantile_transform',\n",
       " 'robust_scale',\n",
       " 'scale']"
      ]
     },
     "execution_count": 21,
     "metadata": {},
     "output_type": "execute_result"
    }
   ],
   "source": [
    "dir(preprocessing)"
   ]
  },
  {
   "cell_type": "code",
   "execution_count": null,
   "id": "729b597d",
   "metadata": {},
   "outputs": [],
   "source": []
  }
 ],
 "metadata": {
  "kernelspec": {
   "display_name": "Python 3 (ipykernel)",
   "language": "python",
   "name": "python3"
  },
  "language_info": {
   "codemirror_mode": {
    "name": "ipython",
    "version": 3
   },
   "file_extension": ".py",
   "mimetype": "text/x-python",
   "name": "python",
   "nbconvert_exporter": "python",
   "pygments_lexer": "ipython3",
   "version": "3.9.7"
  }
 },
 "nbformat": 4,
 "nbformat_minor": 5
}
